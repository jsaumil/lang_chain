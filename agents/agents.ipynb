{
 "cells": [
  {
   "cell_type": "code",
   "execution_count": 1,
   "id": "6d9cb10b",
   "metadata": {},
   "outputs": [
    {
     "data": {
      "text/plain": [
       "True"
      ]
     },
     "execution_count": 1,
     "metadata": {},
     "output_type": "execute_result"
    }
   ],
   "source": [
    "from dotenv import load_dotenv\n",
    "load_dotenv()"
   ]
  },
  {
   "cell_type": "code",
   "execution_count": 2,
   "id": "9fec1c1a",
   "metadata": {},
   "outputs": [
    {
     "name": "stderr",
     "output_type": "stream",
     "text": [
      "c:\\Users\\saumi\\anaconda3\\envs\\langchain-llama\\lib\\site-packages\\tqdm\\auto.py:21: TqdmWarning: IProgress not found. Please update jupyter and ipywidgets. See https://ipywidgets.readthedocs.io/en/stable/user_install.html\n",
      "  from .autonotebook import tqdm as notebook_tqdm\n"
     ]
    }
   ],
   "source": [
    "from langchain_google_genai import ChatGoogleGenerativeAI\n",
    "from langchain_core.tools import tool\n",
    "import requests"
   ]
  },
  {
   "cell_type": "code",
   "execution_count": 3,
   "id": "106ea901",
   "metadata": {},
   "outputs": [
    {
     "name": "stderr",
     "output_type": "stream",
     "text": [
      "c:\\Users\\saumi\\anaconda3\\envs\\langchain-llama\\lib\\site-packages\\langchain_community\\utilities\\duckduckgo_search.py:63: RuntimeWarning: This package (`duckduckgo_search`) has been renamed to `ddgs`! Use `pip install ddgs` instead.\n",
      "  with DDGS() as ddgs:\n"
     ]
    }
   ],
   "source": [
    "from langchain_community.tools import DuckDuckGoSearchRun\n",
    "\n",
    "search_tool = DuckDuckGoSearchRun()\n",
    "\n",
    "result = search_tool.invoke('top news in india')"
   ]
  },
  {
   "cell_type": "code",
   "execution_count": 4,
   "id": "29ffbc3f",
   "metadata": {},
   "outputs": [
    {
     "data": {
      "text/plain": [
       "\"2 days ago · India News Today: Get latest India news and breaking news from India on Times of India. TOI brings the top news headlines from India on Politics, Elections, Current Affairs and … 2 days ago · Today's top India news headlines, news on Indian politics, elections, government, business, technology, and Bollywood. Stay Up-to-date with Top news in India, current headlines, photos & videos online, live coverage on entertainment, business, politics, sports, technology and more at indianexpress.com. India News Today: Read latest and breaking news headlines from India. Top India News, Current headlines, videos, photos and live india news updates at India Today. National news and headlines from within or around India with live updates on major breaking events from The Hindu.\""
      ]
     },
     "execution_count": 4,
     "metadata": {},
     "output_type": "execute_result"
    }
   ],
   "source": [
    "result"
   ]
  },
  {
   "cell_type": "code",
   "execution_count": 5,
   "id": "7ad7eb64",
   "metadata": {},
   "outputs": [],
   "source": [
    "llm = ChatGoogleGenerativeAI(model=\"gemini-1.5-flash\")"
   ]
  },
  {
   "cell_type": "code",
   "execution_count": 6,
   "id": "863d1a9f",
   "metadata": {},
   "outputs": [
    {
     "data": {
      "text/plain": [
       "AIMessage(content='Hi there! How can I help you today?', additional_kwargs={}, response_metadata={'prompt_feedback': {'block_reason': 0, 'safety_ratings': []}, 'finish_reason': 'STOP', 'safety_ratings': []}, id='run--cd52abd6-038c-45fb-9487-6eb8a1e37269-0', usage_metadata={'input_tokens': 1, 'output_tokens': 11, 'total_tokens': 12, 'input_token_details': {'cache_read': 0}})"
      ]
     },
     "execution_count": 6,
     "metadata": {},
     "output_type": "execute_result"
    }
   ],
   "source": [
    "llm.invoke('hi')"
   ]
  },
  {
   "cell_type": "code",
   "execution_count": 13,
   "id": "ee4f5061",
   "metadata": {},
   "outputs": [],
   "source": [
    "@tool\n",
    "def get_weather_data(city: str) -> str:\n",
    "    \"\"\"\n",
    "    This functio fetches the current data for a given city\n",
    "    \"\"\"\n",
    "    url=f\"http://api.weatherstack.com/current?access_key=d1a70cf344ad080e76660f8e13e2d78e&query={city}\"\n",
    "\n",
    "    response = requests.get(url)\n",
    "\n",
    "    return response.json()"
   ]
  },
  {
   "cell_type": "code",
   "execution_count": 14,
   "id": "f5163815",
   "metadata": {},
   "outputs": [],
   "source": [
    "from langchain.agents import create_react_agent, AgentExecutor\n",
    "from langchain import hub"
   ]
  },
  {
   "cell_type": "code",
   "execution_count": 15,
   "id": "c56f6ff4",
   "metadata": {},
   "outputs": [
    {
     "name": "stderr",
     "output_type": "stream",
     "text": [
      "c:\\Users\\saumi\\anaconda3\\envs\\langchain-llama\\lib\\site-packages\\langsmith\\client.py:272: LangSmithMissingAPIKeyWarning: API key must be provided when using hosted LangSmith API\n",
      "  warnings.warn(\n"
     ]
    }
   ],
   "source": [
    "# step 2: pull the react prompt from langchain hub\n",
    "prompt = hub.pull(\"hwchase17/react\")"
   ]
  },
  {
   "cell_type": "code",
   "execution_count": 17,
   "id": "628dba19",
   "metadata": {},
   "outputs": [],
   "source": [
    "# step 3: create the react agent manually with the pulled prompt\n",
    "agent = create_react_agent(\n",
    "    llm=llm,\n",
    "    tools=[search_tool, get_weather_data],\n",
    "    prompt=prompt\n",
    ")"
   ]
  },
  {
   "cell_type": "code",
   "execution_count": 18,
   "id": "5bc14ede",
   "metadata": {},
   "outputs": [],
   "source": [
    "# step 4: Wrap it with AgentExecutor\n",
    "agent_executor = AgentExecutor(\n",
    "    agent=agent,\n",
    "    tools=[search_tool, get_weather_data],\n",
    "    verbose=True\n",
    ")"
   ]
  },
  {
   "cell_type": "code",
   "execution_count": 19,
   "id": "7b0ba80d",
   "metadata": {},
   "outputs": [
    {
     "name": "stdout",
     "output_type": "stream",
     "text": [
      "\n",
      "\n",
      "\u001b[1m> Entering new AgentExecutor chain...\u001b[0m\n",
      "\u001b[32;1m\u001b[1;3mThought: I need to first find the capital of Madhya Pradesh.  I can use a search engine for this. Then I will use the weather API to get the current weather.\n",
      "\n",
      "Action: duckduckgo_search\n",
      "Action Input: \"capital of Madhya Pradesh\"\u001b[0m"
     ]
    },
    {
     "name": "stderr",
     "output_type": "stream",
     "text": [
      "c:\\Users\\saumi\\anaconda3\\envs\\langchain-llama\\lib\\site-packages\\langchain_community\\utilities\\duckduckgo_search.py:63: RuntimeWarning: This package (`duckduckgo_search`) has been renamed to `ddgs`! Use `pip install ddgs` instead.\n",
      "  with DDGS() as ddgs:\n"
     ]
    },
    {
     "name": "stdout",
     "output_type": "stream",
     "text": [
      "\u001b[36;1m\u001b[1;3mList of state and union territory capitals in IndiaIndia is a federal constitutional republic governed under a parliamentary system consisting of 28 states and 8 union territories. [1] All states, as well … Capital is a large sum of money which you use to start a business, or which you invest in order to make more money. Companies are having difficulty in raising capital. A large amount of capital is … There are 28 states and 8 union territories in India at present. Each state of India has an administrative, legislative and judicial capital. The Chief Minister is the head of every state … CAPITAL definition: 1. the most important city in a country or state, where the government is based: 2. an amount of…. Learn more. The noun capital1 refers to a city or town that is the seat of government; to a capital letter as opposed to a lowercase letter; and to wealth or resources. The noun Capitol refers primarily to …\u001b[0m\u001b[32;1m\u001b[1;3mThought: The DuckDuckGo search result doesn't directly answer the question clearly. I need a more focused search.  I'll try again with a more precise query. Then I'll get the weather.\n",
      "\n",
      "Action: duckduckgo_search\n",
      "Action Input: \"what is the capital city of Madhya Pradesh\"\u001b[0m"
     ]
    },
    {
     "name": "stderr",
     "output_type": "stream",
     "text": [
      "c:\\Users\\saumi\\anaconda3\\envs\\langchain-llama\\lib\\site-packages\\langchain_community\\utilities\\duckduckgo_search.py:63: RuntimeWarning: This package (`duckduckgo_search`) has been renamed to `ddgs`! Use `pip install ddgs` instead.\n",
      "  with DDGS() as ddgs:\n"
     ]
    },
    {
     "name": "stdout",
     "output_type": "stream",
     "text": [
      "\u001b[36;1m\u001b[1;3mList of state and union territory capitals in IndiaIndia is a federal constitutional republic governed under a parliamentary system … Capital is a large sum of money which you use to start a business, or which you invest in order to make more money. Companies are having … There are 28 states and 8 union territories in India at present. Each state of India has an administrative, legislative and judicial capital. … CAPITAL definition: 1. the most important city in a country or state, where the government is based: 2. an amount of…. Learn more. The noun capital1 refers to a city or town that is the seat of government; to a capital letter as opposed to a lowercase letter; and to wealth or …\u001b[0m\u001b[32;1m\u001b[1;3mThought: The DuckDuckGo search results are still not providing a clear and concise answer. I will try a different search engine or approach.  Let's try a more direct question.  Then I'll get the weather.\n",
      "\n",
      "Action: duckduckgo_search\n",
      "Action Input: \"Madhya Pradesh capital\"\u001b[0m"
     ]
    },
    {
     "name": "stderr",
     "output_type": "stream",
     "text": [
      "c:\\Users\\saumi\\anaconda3\\envs\\langchain-llama\\lib\\site-packages\\langchain_community\\utilities\\duckduckgo_search.py:63: RuntimeWarning: This package (`duckduckgo_search`) has been renamed to `ddgs`! Use `pip install ddgs` instead.\n",
      "  with DDGS() as ddgs:\n"
     ]
    },
    {
     "name": "stdout",
     "output_type": "stream",
     "text": [
      "\u001b[36;1m\u001b[1;3mNo good DuckDuckGo Search Result was found\u001b[0m\u001b[32;1m\u001b[1;3mThought: I need to find a reliable source to get the capital of Madhya Pradesh.  I'll try a different search engine or a geographical database.  Wikipedia is usually reliable for this type of information.\n",
      "\n",
      "Action: duckduckgo_search\n",
      "Action Input: \"Madhya Pradesh capital wikipedia\"\u001b[0m"
     ]
    },
    {
     "name": "stderr",
     "output_type": "stream",
     "text": [
      "c:\\Users\\saumi\\anaconda3\\envs\\langchain-llama\\lib\\site-packages\\langchain_community\\utilities\\duckduckgo_search.py:63: RuntimeWarning: This package (`duckduckgo_search`) has been renamed to `ddgs`! Use `pip install ddgs` instead.\n",
      "  with DDGS() as ddgs:\n"
     ]
    },
    {
     "name": "stdout",
     "output_type": "stream",
     "text": [
      "\u001b[36;1m\u001b[1;3mAug 24, 2025 · Madhya Pradesh, state of India that is situated in the heart of the country. It has no coastline and no international frontier. Its physiography is characterized by low hills, extensive … Apr 1, 2025 · भोपाल, मध्य प्रदेश की राजधानी है, जो भारत के मध्य क्षेत्र में स्थित है। इसी लिए इस राज्य को मध्य प्रदेश कहा जाता है। यह शहर प्राकृतिक सुंदरता और ऐतिहासिक धरोहर के लिए … Aug 21, 2025 · It is the commercial capital of the state of Madhya Pradesh. Indore city presents a happy blend of historical past and promises of rapid future modernization. Jul 16, 2025 · Bhopal Became Second Cleanest City: स्वच्छ सर्वेक्षण 2024 में राजधानी भोपाल ने पिछले साल की तुलना में तीन पायदान की छलांग लगाते हुए भारत के दूसरे क्लीनेस्ट सिटी का तमगा … Feb 23, 2025 · Bhopal: Adani Group Chairman Gautam Adani on Monday announced new multi-sectoral investments of over Rs 1.10 lakh crore for Madhya Pradesh that, he said, would …\u001b[0m\u001b[32;1m\u001b[1;3mThought: I found multiple mentions of Bhopal as the capital of Madhya Pradesh in the Wikipedia search results. Now I will get the current weather in Bhopal.\n",
      "\n",
      "Action: get_weather_data\n",
      "Action Input: \"Bhopal\"\u001b[0m\u001b[33;1m\u001b[1;3m{'request': {'type': 'City', 'query': 'Bhopal, India', 'language': 'en', 'unit': 'm'}, 'location': {'name': 'Bhopal', 'country': 'India', 'region': 'Madhya Pradesh', 'lat': '23.267', 'lon': '77.400', 'timezone_id': 'Asia/Kolkata', 'localtime': '2025-09-01 21:19', 'localtime_epoch': 1756761540, 'utc_offset': '5.50'}, 'current': {'observation_time': '03:49 PM', 'temperature': 24, 'weather_code': 296, 'weather_icons': ['https://cdn.worldweatheronline.com/images/wsymbols01_png_64/wsymbol_0033_cloudy_with_light_rain_night.png'], 'weather_descriptions': ['Light Rain'], 'astro': {'sunrise': '06:02 AM', 'sunset': '06:38 PM', 'moonrise': '01:52 PM', 'moonset': 'No moonset', 'moon_phase': 'Waxing Gibbous', 'moon_illumination': 57}, 'air_quality': {'co': '468.05', 'no2': '9.805', 'o3': '62', 'so2': '4.995', 'pm2_5': '17.945', 'pm10': '19.055', 'us-epa-index': '2', 'gb-defra-index': '2'}, 'wind_speed': 7, 'wind_degree': 258, 'wind_dir': 'WSW', 'pressure': 1005, 'precip': 0.1, 'humidity': 100, 'cloudcover': 75, 'feelslike': 27, 'uv_index': 0, 'visibility': 4, 'is_day': 'no'}}\u001b[0m\u001b[32;1m\u001b[1;3mThought: I now know the final answer.  Bhopal is the capital of Madhya Pradesh and the current weather is light rain with a temperature of 24 degrees Celsius.\n",
      "\n",
      "Final Answer: The capital of Madhya Pradesh is Bhopal. The current weather in Bhopal is light rain, with a temperature of 24 degrees Celsius.\u001b[0m\n",
      "\n",
      "\u001b[1m> Finished chain.\u001b[0m\n",
      "{'input': \"Find the capital of Madhya Pradesh, then find it's current weather condition\", 'output': 'The capital of Madhya Pradesh is Bhopal. The current weather in Bhopal is light rain, with a temperature of 24 degrees Celsius.'}\n"
     ]
    }
   ],
   "source": [
    "# step 5: Invoke\n",
    "response = agent_executor.invoke({\"input\":\"Find the capital of Madhya Pradesh, then find it's current weather condition\"})\n",
    "print(response)"
   ]
  },
  {
   "cell_type": "code",
   "execution_count": 12,
   "id": "cbbd49dd",
   "metadata": {},
   "outputs": [
    {
     "data": {
      "text/plain": [
       "'Three ways to reach Goa from Delhi are by plane, train, and car/road.'"
      ]
     },
     "execution_count": 12,
     "metadata": {},
     "output_type": "execute_result"
    }
   ],
   "source": [
    "response['output']"
   ]
  },
  {
   "cell_type": "code",
   "execution_count": null,
   "id": "42cc7182",
   "metadata": {},
   "outputs": [],
   "source": []
  }
 ],
 "metadata": {
  "kernelspec": {
   "display_name": "langchain-llama",
   "language": "python",
   "name": "python3"
  },
  "language_info": {
   "codemirror_mode": {
    "name": "ipython",
    "version": 3
   },
   "file_extension": ".py",
   "mimetype": "text/x-python",
   "name": "python",
   "nbconvert_exporter": "python",
   "pygments_lexer": "ipython3",
   "version": "3.10.18"
  }
 },
 "nbformat": 4,
 "nbformat_minor": 5
}
